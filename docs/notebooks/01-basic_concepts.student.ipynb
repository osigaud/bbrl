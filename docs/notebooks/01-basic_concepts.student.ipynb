{
 "cells": [
  {
   "cell_type": "markdown",
   "id": "ecd79b76",
   "metadata": {},
   "source": [
    "# Outlook\n",
    "\n",
    "This notebook is designed to understand how to use BBRL in practice, it is part of the [BBRL documentation](https://github.com/osigaud/bbrl/docs/index.html).\n",
    "We show of to code a simple agent writing in a simple workspace to implement the Fibonacci sequence of numbers.\n",
    "Then some exercises are given to practice on your own."
   ]
  },
  {
   "cell_type": "markdown",
   "id": "f1031a88",
   "metadata": {},
   "source": [
    "# Installation and Imports\n",
    "\n",
    "The BBRL library is [here](https://github.com/osigaud/bbrl).\n",
    "\n",
    "Below, we import standard python packages, pytorch packages and gymnasium\n",
    "environments."
   ]
  },
  {
   "cell_type": "code",
   "execution_count": null,
   "id": "631ffb13",
   "metadata": {
    "tags": [
     "hide-input"
    ]
   },
   "outputs": [],
   "source": [
    "# Installs the necessary Python and system libraries\n",
    "try:\n",
    "    from easypip import easyimport, easyinstall, is_notebook\n",
    "except ModuleNotFoundError as e:\n",
    "    get_ipython().run_line_magic(\"pip\", \"install easypip\")\n",
    "    from easypip import easyimport, easyinstall, is_notebook\n",
    "\n",
    "easyinstall(\"bbrl>=0.2.2\")"
   ]
  },
  {
   "cell_type": "code",
   "execution_count": null,
   "id": "74990492",
   "metadata": {
    "tags": [
     "hide-input"
    ]
   },
   "outputs": [],
   "source": [
    "import os\n",
    "import sys\n",
    "from pathlib import Path\n",
    "import math\n",
    "\n",
    "import time\n",
    "from tqdm.auto import tqdm\n",
    "\n",
    "import copy\n",
    "from abc import abstractmethod, ABC\n",
    "import torch\n",
    "import torch.nn as nn\n",
    "import torch.nn.functional as F"
   ]
  },
  {
   "cell_type": "code",
   "execution_count": null,
   "id": "3a26d923",
   "metadata": {
    "lines_to_next_cell": 1,
    "tags": [
     "hide-input"
    ]
   },
   "outputs": [],
   "source": [
    "# Imports all the necessary classes and functions from BBRL\n",
    "from bbrl.agents.agent import Agent\n",
    "# The workspace is the main class in BBRL, this is where all data is collected and stored\n",
    "from bbrl.workspace import Workspace\n",
    "\n",
    "# Agents(agent1, agent2, agent3,...) executes the different agents the one after the other\n",
    "# TemporalAgent(agent) executes an agent over multiple timesteps in the workspace, \n",
    "# or until a given condition is reached\n",
    "from bbrl.agents import Agents, TemporalAgent, PrintAgent"
   ]
  },
  {
   "cell_type": "markdown",
   "id": "50afc164",
   "metadata": {},
   "source": [
    "# Guided example\n",
    "\n",
    "In this example, we will study the Fibonacci sequence of numbers.\n",
    "\n",
    "## Definition of agents\n",
    "\n",
    "\n",
    "In BBRL, agents interact with each other in a **workspace** by *reading* and *writing* information:\n",
    "\n",
    "- **reading**: by using `self.get((key, t))` to get the value of the tensor\n",
    "  identified by `key` (a string)\n",
    "- **writing**: by using `self.set((key, t), y)` to set the value of the tensor\n",
    "  identified by `key` to `y`\n",
    "\n",
    "To initialize the Fibonacci sequence, we need a specific agent to write a 0 at t=0 and a 1 at t=1.\n",
    "Note that the written numbers are encapsulated into an array and into a Tensor:\n",
    "- The array because when we will interact with several environments, we will have an array of variables at the same time step;\n",
    "- The tensor because most often the agent will be pytorch neural networks which read tensors and write tensors."
   ]
  },
  {
   "cell_type": "code",
   "execution_count": null,
   "id": "c31ff962",
   "metadata": {
    "lines_to_next_cell": 1
   },
   "outputs": [],
   "source": [
    "class InitAgent(Agent):\n",
    "    \"\"\" The agent to initialize the sequence of numbers.\"\"\"\n",
    "    \n",
    "    def __init__(self, *args, **kwargs):\n",
    "        super().__init__(*args, **kwargs)\n",
    "\n",
    "    def forward(self, **kwargs):\n",
    "        self.set((\"number\", 0), torch.Tensor([0]))\n",
    "        self.set((\"number\", 1), torch.Tensor([1]))"
   ]
  },
  {
   "cell_type": "markdown",
   "id": "f71433d3",
   "metadata": {},
   "source": [
    "The Fibonacci agent reads the previous and current numbers, and writes the sum at the next time step\n",
    "Note that, as is often the case, the forward function reads a variable using self.get and write another variable (here the same) using self.set."
   ]
  },
  {
   "cell_type": "code",
   "execution_count": null,
   "id": "f13d5a00",
   "metadata": {
    "lines_to_next_cell": 1
   },
   "outputs": [],
   "source": [
    "class FibonacciAgent(Agent):\n",
    "    \"\"\" An agent to compute the Fibonacci sequence of numbers.\"\"\"\n",
    "    \n",
    "    def __init__(self, *args, **kwargs):\n",
    "        super().__init__(*args, **kwargs)\n",
    "\n",
    "    def forward(self, t, **kwargs):\n",
    "        number = self.get((\"number\", t))\n",
    "        prev_number = self.get((\"number\", t-1))\n",
    "        next_value =  torch.Tensor([number + prev_number])\n",
    "        self.set((\"number\", t+1), next_value)"
   ]
  },
  {
   "cell_type": "markdown",
   "id": "dab94f9b",
   "metadata": {},
   "source": [
    "## Running agents in a workspace\n",
    "\n",
    "Now, let us run the agents into a workspace"
   ]
  },
  {
   "cell_type": "code",
   "execution_count": null,
   "id": "20d763f9",
   "metadata": {},
   "outputs": [],
   "source": [
    "# First we create a new workspace\n",
    "\n",
    "workspace = Workspace() \n",
    "\n",
    "# Then we encapsulate the InitAgent into a Temporal agent which only contains this agent\n",
    "\n",
    "init_agent = TemporalAgent(Agents(InitAgent()))\n",
    "\n",
    "# We do the same for the Fibonacci agent\n",
    "\n",
    "agent = FibonacciAgent()\n",
    "fib_agent = TemporalAgent(Agents(agent))\n",
    "\n",
    "# We execute the init_agent into the workspace for just one time step.\n",
    "\n",
    "init_agent(workspace, t=0, n_steps=1)\n",
    "\n",
    "# We check the content of the workspace\n",
    "\n",
    "print(\"init:\", workspace[\"number\"])\n",
    "\n",
    "# We execute the Fibonacci agent into the workspace for 10 time steps.\n",
    "\n",
    "fib_agent(workspace, t=1, n_steps=10)\n",
    "\n",
    "# We get the content of the workspace at a given time step\n",
    "\n",
    "fib6 = workspace.get(\"number\", 6)\n",
    "print(\"6th Fibonacci number : \", fib6)"
   ]
  },
  {
   "cell_type": "markdown",
   "id": "5d74b7b4",
   "metadata": {},
   "source": [
    "Let us now see the content of the workspace. We more systematically print all variables and their value"
   ]
  },
  {
   "cell_type": "code",
   "execution_count": null,
   "id": "6b5c32cf",
   "metadata": {
    "lines_to_next_cell": 1
   },
   "outputs": [],
   "source": [
    "for key in workspace.variables.keys():\n",
    "    print(key, workspace[key])"
   ]
  },
  {
   "cell_type": "markdown",
   "id": "ae40cb90",
   "metadata": {},
   "source": [
    "## Composing agents, termination condition\n",
    "\n",
    "Now, let's imagine we want to stop the sequence when the number is greater that 200.\n",
    "For that, we add a TerminationChecker agent that writes a variable \"stop\"\n",
    "which is False in the number is lower than a threshold and True otherwise.\n",
    "\n",
    "Important note: if we want to use the `time_size()` method of a workspace,\n",
    "it is important that the time span of all variables is the same.\n",
    "Hence the Termination checker has to work over t+1 rather than over t, which is somewhat clumsy."
   ]
  },
  {
   "cell_type": "code",
   "execution_count": null,
   "id": "3c9e09c0",
   "metadata": {},
   "outputs": [],
   "source": [
    "class TerminationChecker(Agent):\n",
    "    \"\"\" An agent to check if the current Fibonacci number is above a threshold.\"\"\"\n",
    "    \n",
    "    def __init__(self, threshold, *args, **kwargs):\n",
    "        super().__init__(*args, **kwargs)\n",
    "        self.threshold = threshold\n",
    "\n",
    "    def forward(self, t, **kwargs):\n",
    "        number = self.get((\"number\", t+1))\n",
    "        if t == 0:\n",
    "            self.set((\"stop\", 0), torch.Tensor([False]))\n",
    "        else:\n",
    "            if number >= self.threshold:\n",
    "                self.set((\"stop\", t+1), torch.Tensor([True]))\n",
    "            else:\n",
    "                self.set((\"stop\", t+1), torch.Tensor([False]))"
   ]
  },
  {
   "cell_type": "markdown",
   "id": "524597b7",
   "metadata": {},
   "source": [
    "## Running the agents in a workspace\n",
    "\n",
    "Now we compose the agents and run them into a workspace"
   ]
  },
  {
   "cell_type": "code",
   "execution_count": null,
   "id": "08305648",
   "metadata": {
    "lines_to_next_cell": 1
   },
   "outputs": [],
   "source": [
    "# First we create a new workspace\n",
    "\n",
    "workspace = Workspace() \n",
    "\n",
    "# Then we encapsulate the InitAgent into a Temporal agent which only contains this agent\n",
    "\n",
    "init_agent = TemporalAgent(Agents(InitAgent()))\n",
    "\n",
    "# We do the same for the Fibonacci agent, but this time we compose it with the TerminationChecker and a PrintAgent,\n",
    "# which is a utility to debug all steps into a terminal.\n",
    "\n",
    "fib_agent = TemporalAgent(Agents(FibonacciAgent(), TerminationChecker(200), PrintAgent()))\n",
    "\n",
    "# We execute the init_agent into the workspace for just one time step.\n",
    "\n",
    "init_agent(workspace, t=0, n_steps=1)\n",
    "\n",
    "# We check the content of the workspace\n",
    "\n",
    "print(\"init:\", workspace[\"number\"])\n",
    "\n",
    "# We execute the composed agent into the workspace until the stop condition gets True.\n",
    "\n",
    "fib_agent(workspace, t=1, stop_variable=\"stop\")\n",
    "\n",
    "# We get the number of steps it took to reach the threshold\n",
    "\n",
    "print(\"number of steps:\", workspace.time_size())"
   ]
  },
  {
   "cell_type": "markdown",
   "id": "021bc362",
   "metadata": {},
   "source": [
    "# Exercise 1\n",
    "\n",
    "## Question 1\n",
    "\n",
    "Similarly to the guided example above, use an agent and a workspace to generate the sequence of powers of 2.\n",
    "The sequence should stop once the value is over 10e10.\n",
    "You can call the agent computing the powers PowerAgent. It should use a simple product, not the power operator."
   ]
  },
  {
   "cell_type": "code",
   "execution_count": null,
   "id": "04e2d7cc",
   "metadata": {},
   "outputs": [],
   "source": [
    "# To be completed...\n",
    "\n",
    "assert False, 'Not implemented yet'\n",
    "\n",
    "\n",
    "# ## Question 2\n",
    "\n",
    "# To stop at the first power over 10e10, you have probably used your PowerAgent and the TerminationChecker from the previous exercise.\n",
    "# Now, combine both agents into a single PowerAgent. It should write both the powers and the stop variable."
   ]
  },
  {
   "cell_type": "code",
   "execution_count": null,
   "id": "7e7daed1",
   "metadata": {},
   "outputs": [],
   "source": [
    "# To be completed...\n",
    "\n",
    "assert False, 'Not implemented yet'\n"
   ]
  },
  {
   "cell_type": "markdown",
   "id": "ad936ed7",
   "metadata": {},
   "source": [
    "# Exercise 2\n",
    "\n",
    "The Collatz conjecture asks whether repeating two simple arithmetic operations will eventually transform every positive integer into 1.\n",
    "It concerns sequences of integers in which each term is obtained from the previous term as follows:\n",
    "- If the previous term is even, the next term is one half of the previous term.\n",
    "- If the previous term is odd, the next term is 3 times the previous term plus 1.\n",
    "The conjecture is that these sequences always reach 1, no matter which positive integer is chosen to start the sequence (source wikipedia).\n",
    "\n",
    "The goal of this exercise is to study the number of steps one needs to reach one starting from every numbers from 1 to 1000.\n",
    "\n",
    "## Question 1\n",
    "\n",
    "Write the necessary code to get a CollatzAgent generating in a workspace the sequence of numbers starting from any number until it reaches 1.\n",
    "Hint: the CollatzAgent can generate its own stop variable: it is True if the current number is 1, False otherwise.\n",
    "Hint: you also need an InitAgent to pass the value from which you want to start."
   ]
  },
  {
   "cell_type": "code",
   "execution_count": null,
   "id": "59249910",
   "metadata": {},
   "outputs": [],
   "source": [
    "# To be completed...\n",
    "\n",
    "assert False, 'Not implemented yet'\n"
   ]
  },
  {
   "cell_type": "markdown",
   "id": "b391597b",
   "metadata": {
    "lines_to_next_cell": 2
   },
   "source": [
    "## Question 2\n",
    "\n",
    "Write the necessary code to get another agent generating in another workspace the number of steps needed to reach 1 when starting from the 1000 first numbers.\n",
    "This agent should use the previous agent."
   ]
  },
  {
   "cell_type": "code",
   "execution_count": null,
   "id": "bcf3b783",
   "metadata": {
    "lines_to_next_cell": 2
   },
   "outputs": [],
   "source": [
    "# To be completed...\n",
    "\n",
    "assert False, 'Not implemented yet'\n",
    "\n",
    "\n",
    "# Hint: this second agent should run the first agent in a worskpace in its forward function."
   ]
  }
 ],
 "metadata": {
  "jupytext": {
   "cell_markers": "\"\"\""
  },
  "kernelspec": {
   "display_name": "Python 3 (ipykernel)",
   "language": "python",
   "name": "python3"
  }
 },
 "nbformat": 4,
 "nbformat_minor": 5
}
