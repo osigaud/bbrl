{
 "cells": [
  {
   "cell_type": "markdown",
   "id": "eb124fa2",
   "metadata": {},
   "source": [
    "# Outlook\n",
    "\n",
    "This notebook is designed to understand how to use a gymnasium environment as a BBRL agent in practice, using autoreset=True.\n",
    "It is part of the [BBRL documentation](https://github.com/osigaud/bbrl/docs/index.html).\n",
    "\n",
    "If this is your first contact with BBRL, you may start be having a look at [this more basic notebook](01-basic_concepts.student.ipynb) and [the one using autoreset=False](02-multi_env_noautoreset.student.ipynb)."
   ]
  },
  {
   "cell_type": "markdown",
   "id": "42863512",
   "metadata": {},
   "source": [
    "## Installation and Imports\n",
    "\n",
    "The BBRL library is [here](https://github.com/osigaud/bbrl).\n",
    "\n",
    "Below, we import standard python packages, pytorch packages and gymnasium environments."
   ]
  },
  {
   "cell_type": "code",
   "execution_count": null,
   "id": "13631a8d",
   "metadata": {
    "tags": [
     "hide-input"
    ]
   },
   "outputs": [],
   "source": [
    "# Installs the necessary Python and system libraries\n",
    "try:\n",
    "    from easypip import easyimport, easyinstall, is_notebook\n",
    "except ModuleNotFoundError as e:\n",
    "    get_ipython().run_line_magic(\"pip\", \"install easypip\")\n",
    "    from easypip import easyimport, easyinstall, is_notebook\n",
    "\n",
    "easyinstall(\"bbrl>=0.2.2\")\n",
    "easyinstall(\"swig\")\n",
    "easyinstall(\"bbrl_gymnasium>=0.2.0\")\n",
    "easyinstall(\"bbrl_gymnasium[classic_control]\")"
   ]
  },
  {
   "cell_type": "code",
   "execution_count": null,
   "id": "9f817a1b",
   "metadata": {
    "tags": [
     "hide-input"
    ]
   },
   "outputs": [],
   "source": [
    "import os\n",
    "import sys\n",
    "from pathlib import Path\n",
    "import math\n",
    "\n",
    "from moviepy.editor import ipython_display as video_display\n",
    "import time\n",
    "from tqdm.auto import tqdm\n",
    "from typing import Tuple, Optional\n",
    "from functools import partial\n",
    "\n",
    "from omegaconf import OmegaConf\n",
    "import torch\n",
    "import bbrl_gymnasium\n",
    "\n",
    "import copy\n",
    "from abc import abstractmethod, ABC\n",
    "import torch.nn as nn\n",
    "import torch.nn.functional as F\n",
    "from time import strftime\n",
    "OmegaConf.register_new_resolver(\n",
    "    \"current_time\", lambda: strftime(\"%Y%m%d-%H%M%S\"), replace=True\n",
    ")"
   ]
  },
  {
   "cell_type": "code",
   "execution_count": null,
   "id": "f1fa6c96",
   "metadata": {
    "tags": [
     "hide-input"
    ]
   },
   "outputs": [],
   "source": [
    "# Imports all the necessary classes and functions from BBRL\n",
    "from bbrl.agents.agent import Agent\n",
    "from bbrl import get_arguments, get_class, instantiate_class\n",
    "# The workspace is the main class in BBRL, this is where all data is collected and stored\n",
    "from bbrl.workspace import Workspace\n",
    "\n",
    "# Agents(agent1, agent2, agent3, ...) executes the different agents the one after the other\n",
    "# TemporalAgent(agent) executes an agent over multiple timesteps in the workspace, \n",
    "# or until a given condition is reached\n",
    "\n",
    "from bbrl.agents import Agents, TemporalAgent\n",
    "from bbrl.agents.gymnasium import ParallelGymAgent, make_env\n",
    "\n",
    "# Replay buffers are useful to store past transitions when training\n",
    "from bbrl.utils.replay_buffer import ReplayBuffer"
   ]
  },
  {
   "cell_type": "markdown",
   "id": "fcfcacdb",
   "metadata": {
    "lines_to_next_cell": 2
   },
   "source": [
    "## Definition of agents\n",
    "\n",
    "We reuse the RandomAgent already used in the autoreset=False case."
   ]
  },
  {
   "cell_type": "code",
   "execution_count": null,
   "id": "fba3eaa4",
   "metadata": {
    "lines_to_next_cell": 1
   },
   "outputs": [],
   "source": [
    "class RandomAgent(Agent):\n",
    "    def __init__(self, action_dim):\n",
    "        super().__init__()\n",
    "        self.action_dim = action_dim\n",
    "\n",
    "    def forward(self, t: int, choose_action=True, **kwargs):\n",
    "        \"\"\"An Agent can use self.workspace\"\"\"\n",
    "        obs = self.get((\"env/env_obs\", t))\n",
    "        action = torch.randint(0, self.action_dim, (len(obs), ))\n",
    "        self.set((\"action\", t), action)"
   ]
  },
  {
   "cell_type": "markdown",
   "id": "6fe7c965",
   "metadata": {},
   "source": [
    "As before, we create an Agent representing [the CartPole-v1 gym environment](https://gymnasium.farama.org/environments/classic_control/cart_pole/).\n",
    "This is done using the [ParallelGymAgent](https://github.com/osigaud/bbrl/blob/40fe0468feb8998e62c3cd6bb3a575fef88e256f/src/bbrl/agents/gymnasium.py#L261) class."
   ]
  },
  {
   "cell_type": "markdown",
   "id": "befe26bf",
   "metadata": {},
   "source": [
    "### Single environment case\n",
    "\n",
    "We start with a single instance of the CartPole environment"
   ]
  },
  {
   "cell_type": "code",
   "execution_count": null,
   "id": "1aa8b5dc",
   "metadata": {},
   "outputs": [],
   "source": [
    "# We deal with 1 environment (random seed 2139)\n",
    "\n",
    "env_agent = ParallelGymAgent(partial(make_env, env_name='CartPole-v1', autoreset=True), num_envs=1).seed(2139)\n",
    "obs_size, action_dim = env_agent.get_obs_and_actions_sizes()\n",
    "print(f\"Environment: observation space in R^{obs_size} and action space R^{action_dim}\")\n",
    "\n",
    "# Each agent is run in the order given when constructing Agents\n",
    "\n",
    "agents = Agents(env_agent, RandomAgent(action_dim))\n",
    "t_agents = TemporalAgent(agents)"
   ]
  },
  {
   "cell_type": "markdown",
   "id": "3950591a",
   "metadata": {},
   "source": [
    "Let us have a closer look at the content of the workspace"
   ]
  },
  {
   "cell_type": "code",
   "execution_count": null,
   "id": "7aa121e7",
   "metadata": {},
   "outputs": [],
   "source": [
    "# Creates a new workspace\n",
    "workspace = Workspace() \n",
    "epoch_size = 6\n",
    "t_agents(workspace, n_steps=epoch_size)\n",
    "\n",
    "# We get the transitions: each tensor is transformed so that: \n",
    "# - we have the value at time step t and t+1 (so all the tensors first dimension have a size of 2)\n",
    "# - there is no distinction between the different environments (here, there is just one environment to make it easy)\n",
    "transitions = workspace.get_transitions()\n",
    "\n",
    "display(\"Observations (first 4)\", workspace[\"env/env_obs\"][:4])\n",
    "\n",
    "display(\"Transitions (first 3)\")\n",
    "for t in range(3):\n",
    "    display(f'(s_{t}, s_{t+1})')\n",
    "    # We ignore the first dimension as it corresponds to [t, t+1]\n",
    "    display(transitions[\"env/env_obs\"][:, t])"
   ]
  },
  {
   "cell_type": "markdown",
   "id": "a3bbc7c8",
   "metadata": {},
   "source": [
    "You can see that each transition in the workspace corresponds to a pair of observations.\n",
    "\n",
    "### Transitions as a workspace\n",
    "\n",
    "A transition workspace is still a workspace... this is quite\n",
    " handy since each transition can be seen as a mini-episode of two time steps;\n",
    " we can use our agents on it.\n",
    "\n",
    "It is often the case in BBRL that we have to apply an agent to an already existing workspace\n",
    "as shown below."
   ]
  },
  {
   "cell_type": "code",
   "execution_count": null,
   "id": "2b3aab11",
   "metadata": {},
   "outputs": [],
   "source": [
    "for key in transitions.variables.keys():\n",
    "    print(key, transitions[key])\n",
    "\n",
    "t_random_agent = TemporalAgent(RandomAgent(action_dim))\n",
    "t_random_agent(transitions, t=0, n_steps=2)\n",
    "\n",
    "# Here, the action tensor will have been overwritten by the new actions\n",
    "print(f\"new action, {transitions['action']}\")"
   ]
  },
  {
   "cell_type": "markdown",
   "id": "6990c993",
   "metadata": {},
   "source": [
    "### Multiple environment case\n",
    "\n",
    "Now we are using 3 environments.\n",
    "Given the organization of transitions, to find the transitions of a particular environment\n",
    "we have to watch in the transition every 3 lines, since transitions are stored one environment after the other."
   ]
  },
  {
   "cell_type": "code",
   "execution_count": null,
   "id": "5aee3e15",
   "metadata": {},
   "outputs": [],
   "source": [
    "# We deal with 3 environments at a time (random seed 2139)\n",
    "\n",
    "multienv_agent = ParallelGymAgent(partial(make_env, env_name='CartPole-v1', autoreset=True), num_envs=3).seed(2139)\n",
    "obs_size, action_dim = multienv_agent.get_obs_and_actions_sizes()\n",
    "print(f\"Environment: observation space in R^{obs_size} and action space R^{action_dim}\")\n",
    "\n",
    "agents = Agents(multienv_agent, RandomAgent(action_dim))\n",
    "t_agents = TemporalAgent(agents)\n",
    "workspace = Workspace() \n",
    "t_agents(workspace, n_steps=epoch_size)\n",
    "transitions = workspace.get_transitions()\n",
    "\n",
    "display(\"Observations (first 4)\", workspace[\"env/env_obs\"][:4])\n",
    "\n",
    "display(\"Transitions (first 3)\")\n",
    "for t in range(3):\n",
    "    display(f'(s_{t}, s_{t+1})')\n",
    "    display(transitions[\"env/env_obs\"][:, t])"
   ]
  },
  {
   "cell_type": "markdown",
   "id": "c4476782",
   "metadata": {},
   "source": [
    "You can see how the transitions are organized in the workspace relative to the 3 environments.\n",
    "You first get the first transition from the first environment.\n",
    "Then the first transition from the second environment.\n",
    "Then the first transition from the third environment.\n",
    "Then the second transition from the first environment, etc.\n",
    "\n",
    "## The replay buffer\n",
    "\n",
    "Differently from the previous case, we use a replace buffer that stores\n",
    "a set of transitions $(s_t, a_t, r_t, s_{t+1})$\n",
    "Finally, the replay buffer keeps slices [:, i, ...] of the transition\n",
    "workspace (here at most 80 transitions)"
   ]
  },
  {
   "cell_type": "code",
   "execution_count": null,
   "id": "bc58e15d",
   "metadata": {},
   "outputs": [],
   "source": [
    "rb = ReplayBuffer(max_size=80)\n",
    "\n",
    "# We add the transitions to the buffer....\n",
    "rb.put(transitions)\n",
    "\n",
    "# And sample from them here we get 3 tuples (s_t, s_{t+1})\n",
    "rb.get_shuffled(3)[\"env/env_obs\"]"
   ]
  },
  {
   "cell_type": "markdown",
   "id": "032c10f6",
   "metadata": {},
   "source": [
    "## Collecting several epochs into the same workspace\n",
    "\n",
    "In the code below, the workspace only contains one epoch at a time.\n",
    "The content of these different epochs are concatenated into the replay buffer"
   ]
  },
  {
   "cell_type": "code",
   "execution_count": null,
   "id": "1c1ba319",
   "metadata": {},
   "outputs": [],
   "source": [
    "nb_steps = 0\n",
    "max_steps = 100\n",
    "epoch_size = 10\n",
    "\n",
    "while nb_steps < max_steps:\n",
    "    # Execute the agent in the workspace\n",
    "    if nb_steps == 0:\n",
    "        # In the first epoch, we start with t=0\n",
    "        t_agents(workspace, t=0, n_steps=epoch_size)\n",
    "    else:\n",
    "        # Clear all gradient graphs from the workspace\n",
    "        workspace.zero_grad()\n",
    "        # Here we duplicate the last column of the previous epoch into the first column of the next epoch\n",
    "        workspace.copy_n_last_steps(1)\n",
    "\n",
    "        # In subsequent epochs, we start with t=1 so as to avoid overwriting the first column we just duplicated\n",
    "        t_agents(workspace, t=1, n_steps=epoch_size)\n",
    "\n",
    "    transition_workspace = workspace.get_transitions()\n",
    "\n",
    "    # The part below counts the number of steps: it ignores action performed during transition from one episode to the next,\n",
    "    # as they have been discarded by the get_transitions() function\n",
    "\n",
    "    action = transition_workspace[\"action\"]\n",
    "    nb_steps += action[0].shape[0]\n",
    "    print(f\"collecting new epoch, already performed {nb_steps} steps\")\n",
    "\n",
    "    if nb_steps > 0 or epoch_size  > 1:\n",
    "        rb.put(transition_workspace)\n",
    "    print(f\"replay buffer size: {rb.size()}\")"
   ]
  },
  {
   "cell_type": "markdown",
   "id": "bbb84141",
   "metadata": {},
   "source": [
    "## Exercise\n",
    "\n",
    "Create a stupid agent that always outputs action 1, run it for 10 epochs of 100 steps over 2 instances of the CartPole-v1 environment.\n",
    "Put the data into a replay buffer of size 5000.\n",
    "\n",
    "Then do the following:\n",
    "- Count the number of episodes the agent performed in each environment by counting the number of \"done=True\" elements in the workspace before applying the `get_transitions()` function\n",
    "- Count the total number of episodes performed by the agent by measuring the difference between the size of the replay buffer and the number of steps performed by the agent.\n",
    "- Make sure both counts are consistent\n",
    "\n",
    "Can we count the number of episodes performed in one environment using the second method? Why?"
   ]
  }
 ],
 "metadata": {
  "jupytext": {
   "cell_markers": "\"\"\""
  },
  "kernelspec": {
   "display_name": "Python 3 (ipykernel)",
   "language": "python",
   "name": "python3"
  }
 },
 "nbformat": 4,
 "nbformat_minor": 5
}
