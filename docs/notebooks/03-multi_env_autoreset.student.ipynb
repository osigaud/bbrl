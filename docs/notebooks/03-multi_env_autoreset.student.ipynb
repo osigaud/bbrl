{
 "cells": [
  {
   "cell_type": "markdown",
   "id": "eb124fa2",
   "metadata": {},
   "source": [
    "# Outlook\n",
    "\n",
    "This notebook is designed to understand how to use a gymnasium environment as a BBRL agent in practice, using autoreset=True.\n",
    "It is part of the [BBRL documentation](https://github.com/osigaud/bbrl/docs/index.html).\n",
    "\n",
    "If this is your first contact with BBRL, you may start be having a look at [this more basic notebook](01-basic_concepts.student.ipynb) and [the one using autoreset=False](02-multi_env_noautoreset.student.ipynb)."
   ]
  },
  {
   "cell_type": "markdown",
   "id": "42863512",
   "metadata": {},
   "source": [
    "## Installation and Imports\n",
    "\n",
    "The BBRL library is [here](https://github.com/osigaud/bbrl).\n",
    "\n",
    "Below, we import standard python packages, pytorch packages and gymnasium environments."
   ]
  },
  {
   "cell_type": "code",
   "execution_count": 1,
   "id": "13631a8d",
   "metadata": {
    "tags": [
     "hide-input"
    ]
   },
   "outputs": [
    {
     "name": "stderr",
     "output_type": "stream",
     "text": [
      "[easypip] Installing bbrl_gymnasium>=0.2.0\n",
      "[easypip] Installing bbrl_gymnasium[classic_control]\n"
     ]
    }
   ],
   "source": [
    "# Installs the necessary Python and system libraries\n",
    "try:\n",
    "    from easypip import easyimport, easyinstall, is_notebook\n",
    "except ModuleNotFoundError as e:\n",
    "    get_ipython().run_line_magic(\"pip\", \"install easypip\")\n",
    "    from easypip import easyimport, easyinstall, is_notebook\n",
    "\n",
    "easyinstall(\"bbrl>=0.2.2\")\n",
    "easyinstall(\"swig\")\n",
    "easyinstall(\"bbrl_gymnasium>=0.2.0\")\n",
    "easyinstall(\"bbrl_gymnasium[classic_control]\")"
   ]
  },
  {
   "cell_type": "code",
   "execution_count": 2,
   "id": "9f817a1b",
   "metadata": {
    "tags": [
     "hide-input"
    ]
   },
   "outputs": [],
   "source": [
    "import os\n",
    "import sys\n",
    "from pathlib import Path\n",
    "import math\n",
    "\n",
    "from moviepy.editor import ipython_display as video_display\n",
    "import time\n",
    "from tqdm.auto import tqdm\n",
    "from typing import Tuple, Optional\n",
    "from functools import partial\n",
    "\n",
    "from omegaconf import OmegaConf\n",
    "import torch\n",
    "import bbrl_gymnasium\n",
    "\n",
    "import copy\n",
    "from abc import abstractmethod, ABC\n",
    "import torch.nn as nn\n",
    "import torch.nn.functional as F\n",
    "from time import strftime\n",
    "OmegaConf.register_new_resolver(\n",
    "    \"current_time\", lambda: strftime(\"%Y%m%d-%H%M%S\"), replace=True\n",
    ")"
   ]
  },
  {
   "cell_type": "code",
   "execution_count": 3,
   "id": "f1fa6c96",
   "metadata": {
    "tags": [
     "hide-input"
    ]
   },
   "outputs": [],
   "source": [
    "# Imports all the necessary classes and functions from BBRL\n",
    "from bbrl.agents.agent import Agent\n",
    "from bbrl import get_arguments, get_class, instantiate_class\n",
    "# The workspace is the main class in BBRL, this is where all data is collected and stored\n",
    "from bbrl.workspace import Workspace\n",
    "\n",
    "# Agents(agent1, agent2, agent3, ...) executes the different agents the one after the other\n",
    "# TemporalAgent(agent) executes an agent over multiple timesteps in the workspace, \n",
    "# or until a given condition is reached\n",
    "\n",
    "from bbrl.agents import Agents, TemporalAgent\n",
    "from bbrl.agents.gymnasium import ParallelGymAgent, make_env\n",
    "\n",
    "# Replay buffers are useful to store past transitions when training\n",
    "from bbrl.utils.replay_buffer import ReplayBuffer"
   ]
  },
  {
   "cell_type": "markdown",
   "id": "fcfcacdb",
   "metadata": {
    "lines_to_next_cell": 2
   },
   "source": [
    "## Definition of agents\n",
    "\n",
    "We reuse the RandomAgent already used in the autoreset=False case."
   ]
  },
  {
   "cell_type": "code",
   "execution_count": 4,
   "id": "fba3eaa4",
   "metadata": {
    "lines_to_next_cell": 1
   },
   "outputs": [],
   "source": [
    "class RandomAgent(Agent):\n",
    "    def __init__(self, action_dim):\n",
    "        super().__init__()\n",
    "        self.action_dim = action_dim\n",
    "\n",
    "    def forward(self, t: int, choose_action=True, **kwargs):\n",
    "        \"\"\"An Agent can use self.workspace\"\"\"\n",
    "        obs = self.get((\"env/env_obs\", t))\n",
    "        action = torch.randint(0, self.action_dim, (len(obs), ))\n",
    "        self.set((\"action\", t), action)"
   ]
  },
  {
   "cell_type": "markdown",
   "id": "6fe7c965",
   "metadata": {},
   "source": [
    "As before, we create an Agent representing [the CartPole-v1 gym environment](https://gymnasium.farama.org/environments/classic_control/cart_pole/).\n",
    "This is done using the [ParallelGymAgent](https://github.com/osigaud/bbrl/blob/40fe0468feb8998e62c3cd6bb3a575fef88e256f/src/bbrl/agents/gymnasium.py#L261) class."
   ]
  },
  {
   "cell_type": "markdown",
   "id": "befe26bf",
   "metadata": {},
   "source": [
    "### Single environment case\n",
    "\n",
    "We start with a single instance of the CartPole environment"
   ]
  },
  {
   "cell_type": "code",
   "execution_count": 5,
   "id": "1aa8b5dc",
   "metadata": {},
   "outputs": [
    {
     "name": "stdout",
     "output_type": "stream",
     "text": [
      "Environment: observation space in R^4 and action space R^2\n"
     ]
    }
   ],
   "source": [
    "# We deal with 1 environment (random seed 2139)\n",
    "\n",
    "env_agent = ParallelGymAgent(partial(make_env, env_name='CartPole-v1', autoreset=True), num_envs=1).seed(2139)\n",
    "obs_size, action_dim = env_agent.get_obs_and_actions_sizes()\n",
    "print(f\"Environment: observation space in R^{obs_size} and action space R^{action_dim}\")\n",
    "\n",
    "# Each agent is run in the order given when constructing Agents\n",
    "\n",
    "agents = Agents(env_agent, RandomAgent(action_dim))\n",
    "t_agents = TemporalAgent(agents)"
   ]
  },
  {
   "cell_type": "markdown",
   "id": "3950591a",
   "metadata": {},
   "source": [
    "Let us have a closer look at the content of the workspace"
   ]
  },
  {
   "cell_type": "code",
   "execution_count": 16,
   "id": "7aa121e7",
   "metadata": {},
   "outputs": [],
   "source": [
    "# Creates a new workspace\n",
    "workspace = Workspace() \n",
    "epoch_size = 15\n",
    "t_agents(workspace, n_steps=epoch_size)"
   ]
  },
  {
   "cell_type": "code",
   "execution_count": 17,
   "id": "b6f3d415",
   "metadata": {
    "scrolled": false
   },
   "outputs": [
    {
     "name": "stdout",
     "output_type": "stream",
     "text": [
      "env/env_obs torch.Size([15, 3, 4]) tensor([[[-2.4851e-03,  1.3973e-02, -1.4816e-02, -4.2812e-03],\n",
      "         [-8.0932e-03,  1.2465e-02, -4.5459e-02,  1.7060e-03],\n",
      "         [-2.9592e-02,  8.0873e-03,  4.2124e-02, -4.6108e-02]],\n",
      "\n",
      "        [[-2.2056e-03, -1.8093e-01, -1.4901e-02,  2.8369e-01],\n",
      "         [-7.8439e-03,  2.0821e-01, -4.5425e-02, -3.0497e-01],\n",
      "         [-2.9430e-02,  2.0258e-01,  4.1202e-02, -3.2521e-01]],\n",
      "\n",
      "        [[-5.8243e-03, -3.7584e-01, -9.2275e-03,  5.7164e-01],\n",
      "         [-3.6798e-03,  1.3762e-02, -5.1524e-02, -2.6948e-02],\n",
      "         [-2.5379e-02,  3.9709e-01,  3.4698e-02, -6.0462e-01]],\n",
      "\n",
      "        [[-1.3341e-02, -1.8059e-01,  2.2052e-03,  2.7606e-01],\n",
      "         [-3.4045e-03,  2.0958e-01, -5.2063e-02, -3.3543e-01],\n",
      "         [-1.7437e-02,  5.9171e-01,  2.2605e-02, -8.8617e-01]],\n",
      "\n",
      "        [[-1.6953e-02, -3.7574e-01,  7.7264e-03,  5.6944e-01],\n",
      "         [ 7.8716e-04,  4.0541e-01, -5.8772e-02, -6.4407e-01],\n",
      "         [-5.6027e-03,  7.8652e-01,  4.8820e-03, -1.1717e+00]],\n",
      "\n",
      "        [[-2.4468e-02, -5.7097e-01,  1.9115e-02,  8.6455e-01],\n",
      "         [ 8.8953e-03,  2.1115e-01, -7.1653e-02, -3.7046e-01],\n",
      "         [ 1.0128e-02,  5.9134e-01, -1.8551e-02, -8.7746e-01]],\n",
      "\n",
      "        [[-3.5887e-02, -7.6635e-01,  3.6406e-02,  1.1632e+00],\n",
      "         [ 1.3118e-02,  4.0721e-01, -7.9063e-02, -6.8484e-01],\n",
      "         [ 2.1954e-02,  3.9647e-01, -3.6100e-02, -5.9066e-01]],\n",
      "\n",
      "        [[-5.1214e-02, -9.6193e-01,  5.9670e-02,  1.4670e+00],\n",
      "         [ 2.1263e-02,  6.0334e-01, -9.2759e-02, -1.0013e+00],\n",
      "         [ 2.9884e-02,  5.9208e-01, -4.7914e-02, -8.9450e-01]],\n",
      "\n",
      "        [[-7.0453e-02, -1.1577e+00,  8.9011e-02,  1.7778e+00],\n",
      "         [ 3.3329e-02,  4.0957e-01, -1.1279e-01, -7.3916e-01],\n",
      "         [ 4.1725e-02,  3.9764e-01, -6.5804e-02, -6.1725e-01]],\n",
      "\n",
      "        [[-9.3607e-02, -1.3537e+00,  1.2457e-01,  2.0967e+00],\n",
      "         [ 4.1521e-02,  6.0605e-01, -1.2757e-01, -1.0651e+00],\n",
      "         [ 4.9678e-02,  2.0349e-01, -7.8149e-02, -3.4600e-01]],\n",
      "\n",
      "        [[-1.2068e-01, -1.5499e+00,  1.6650e-01,  2.4252e+00],\n",
      "         [ 5.3642e-02,  8.0261e-01, -1.4887e-01, -1.3950e+00],\n",
      "         [ 5.3748e-02,  3.9964e-01, -8.5069e-02, -6.6226e-01]],\n",
      "\n",
      "        [[-1.5168e-01, -1.7460e+00,  2.1500e-01,  2.7640e+00],\n",
      "         [ 6.9694e-02,  9.9924e-01, -1.7677e-01, -1.7302e+00],\n",
      "         [ 6.1741e-02,  2.0579e-01, -9.8314e-02, -3.9753e-01]],\n",
      "\n",
      "        [[-3.5174e-02,  3.7342e-02,  4.9487e-02,  2.3809e-02],\n",
      "         [ 8.9679e-02,  1.1959e+00, -2.1138e-01, -2.0723e+00],\n",
      "         [ 6.5857e-02,  1.2194e-02, -1.0626e-01, -1.3739e-01]],\n",
      "\n",
      "        [[-3.4427e-02,  2.3172e-01,  4.9963e-02, -2.5286e-01],\n",
      "         [ 1.4532e-02,  7.9460e-03, -1.6259e-02, -4.6894e-02],\n",
      "         [ 6.6101e-02,  2.0866e-01, -1.0901e-01, -4.6162e-01]],\n",
      "\n",
      "        [[-2.9793e-02,  3.5922e-02,  4.4906e-02,  5.5156e-02],\n",
      "         [ 1.4691e-02, -1.8694e-01, -1.7197e-02,  2.4061e-01],\n",
      "         [ 7.0274e-02,  1.5239e-02, -1.1824e-01, -2.0519e-01]]])\n",
      "env/terminated torch.Size([15, 3]) tensor([[False, False, False],\n",
      "        [False, False, False],\n",
      "        [False, False, False],\n",
      "        [False, False, False],\n",
      "        [False, False, False],\n",
      "        [False, False, False],\n",
      "        [False, False, False],\n",
      "        [False, False, False],\n",
      "        [False, False, False],\n",
      "        [False, False, False],\n",
      "        [False, False, False],\n",
      "        [ True, False, False],\n",
      "        [False,  True, False],\n",
      "        [False, False, False],\n",
      "        [False, False, False]])\n",
      "env/truncated torch.Size([15, 3]) tensor([[False, False, False],\n",
      "        [False, False, False],\n",
      "        [False, False, False],\n",
      "        [False, False, False],\n",
      "        [False, False, False],\n",
      "        [False, False, False],\n",
      "        [False, False, False],\n",
      "        [False, False, False],\n",
      "        [False, False, False],\n",
      "        [False, False, False],\n",
      "        [False, False, False],\n",
      "        [False, False, False],\n",
      "        [False, False, False],\n",
      "        [False, False, False],\n",
      "        [False, False, False]])\n",
      "env/done torch.Size([15, 3]) tensor([[False, False, False],\n",
      "        [False, False, False],\n",
      "        [False, False, False],\n",
      "        [False, False, False],\n",
      "        [False, False, False],\n",
      "        [False, False, False],\n",
      "        [False, False, False],\n",
      "        [False, False, False],\n",
      "        [False, False, False],\n",
      "        [False, False, False],\n",
      "        [False, False, False],\n",
      "        [ True, False, False],\n",
      "        [False,  True, False],\n",
      "        [False, False, False],\n",
      "        [False, False, False]])\n",
      "env/reward torch.Size([15, 3]) tensor([[0., 0., 0.],\n",
      "        [1., 1., 1.],\n",
      "        [1., 1., 1.],\n",
      "        [1., 1., 1.],\n",
      "        [1., 1., 1.],\n",
      "        [1., 1., 1.],\n",
      "        [1., 1., 1.],\n",
      "        [1., 1., 1.],\n",
      "        [1., 1., 1.],\n",
      "        [1., 1., 1.],\n",
      "        [1., 1., 1.],\n",
      "        [1., 1., 1.],\n",
      "        [0., 1., 1.],\n",
      "        [1., 0., 1.],\n",
      "        [1., 1., 1.]])\n",
      "env/cumulated_reward torch.Size([15, 3]) tensor([[ 0.,  0.,  0.],\n",
      "        [ 1.,  1.,  1.],\n",
      "        [ 2.,  2.,  2.],\n",
      "        [ 3.,  3.,  3.],\n",
      "        [ 4.,  4.,  4.],\n",
      "        [ 5.,  5.,  5.],\n",
      "        [ 6.,  6.,  6.],\n",
      "        [ 7.,  7.,  7.],\n",
      "        [ 8.,  8.,  8.],\n",
      "        [ 9.,  9.,  9.],\n",
      "        [10., 10., 10.],\n",
      "        [11., 11., 11.],\n",
      "        [ 0., 12., 12.],\n",
      "        [ 1.,  0., 13.],\n",
      "        [ 2.,  1., 14.]])\n",
      "env/timestep torch.Size([15, 3]) tensor([[ 0,  0,  0],\n",
      "        [ 1,  1,  1],\n",
      "        [ 2,  2,  2],\n",
      "        [ 3,  3,  3],\n",
      "        [ 4,  4,  4],\n",
      "        [ 5,  5,  5],\n",
      "        [ 6,  6,  6],\n",
      "        [ 7,  7,  7],\n",
      "        [ 8,  8,  8],\n",
      "        [ 9,  9,  9],\n",
      "        [10, 10, 10],\n",
      "        [11, 11, 11],\n",
      "        [ 0, 12, 12],\n",
      "        [ 1,  0, 13],\n",
      "        [ 2,  1, 14]])\n",
      "action torch.Size([15, 3]) tensor([[0, 1, 1],\n",
      "        [0, 0, 1],\n",
      "        [1, 1, 1],\n",
      "        [0, 1, 1],\n",
      "        [0, 0, 0],\n",
      "        [0, 1, 0],\n",
      "        [0, 1, 1],\n",
      "        [0, 0, 0],\n",
      "        [0, 1, 0],\n",
      "        [0, 1, 1],\n",
      "        [0, 1, 0],\n",
      "        [1, 1, 0],\n",
      "        [1, 1, 1],\n",
      "        [0, 0, 0],\n",
      "        [1, 1, 1]])\n"
     ]
    }
   ],
   "source": [
    "for key in workspace.variables.keys():\n",
    "    print(key, workspace[key].shape, workspace[key])"
   ]
  },
  {
   "cell_type": "code",
   "execution_count": 19,
   "id": "ba99c959",
   "metadata": {},
   "outputs": [
    {
     "data": {
      "text/plain": [
       "'Observations (first 4)'"
      ]
     },
     "metadata": {},
     "output_type": "display_data"
    },
    {
     "data": {
      "text/plain": [
       "tensor([[[-0.0025,  0.0140, -0.0148, -0.0043],\n",
       "         [-0.0081,  0.0125, -0.0455,  0.0017],\n",
       "         [-0.0296,  0.0081,  0.0421, -0.0461]],\n",
       "\n",
       "        [[-0.0022, -0.1809, -0.0149,  0.2837],\n",
       "         [-0.0078,  0.2082, -0.0454, -0.3050],\n",
       "         [-0.0294,  0.2026,  0.0412, -0.3252]],\n",
       "\n",
       "        [[-0.0058, -0.3758, -0.0092,  0.5716],\n",
       "         [-0.0037,  0.0138, -0.0515, -0.0269],\n",
       "         [-0.0254,  0.3971,  0.0347, -0.6046]],\n",
       "\n",
       "        [[-0.0133, -0.1806,  0.0022,  0.2761],\n",
       "         [-0.0034,  0.2096, -0.0521, -0.3354],\n",
       "         [-0.0174,  0.5917,  0.0226, -0.8862]]])"
      ]
     },
     "metadata": {},
     "output_type": "display_data"
    },
    {
     "data": {
      "text/plain": [
       "'Transitions (first 3)'"
      ]
     },
     "metadata": {},
     "output_type": "display_data"
    },
    {
     "data": {
      "text/plain": [
       "'(s_0, s_1)'"
      ]
     },
     "metadata": {},
     "output_type": "display_data"
    },
    {
     "data": {
      "text/plain": [
       "tensor([[-0.0025,  0.0140, -0.0148, -0.0043],\n",
       "        [-0.0022, -0.1809, -0.0149,  0.2837]])"
      ]
     },
     "metadata": {},
     "output_type": "display_data"
    },
    {
     "data": {
      "text/plain": [
       "'(s_1, s_2)'"
      ]
     },
     "metadata": {},
     "output_type": "display_data"
    },
    {
     "data": {
      "text/plain": [
       "tensor([[-0.0081,  0.0125, -0.0455,  0.0017],\n",
       "        [-0.0078,  0.2082, -0.0454, -0.3050]])"
      ]
     },
     "metadata": {},
     "output_type": "display_data"
    },
    {
     "data": {
      "text/plain": [
       "'(s_2, s_3)'"
      ]
     },
     "metadata": {},
     "output_type": "display_data"
    },
    {
     "data": {
      "text/plain": [
       "tensor([[-0.0296,  0.0081,  0.0421, -0.0461],\n",
       "        [-0.0294,  0.2026,  0.0412, -0.3252]])"
      ]
     },
     "metadata": {},
     "output_type": "display_data"
    },
    {
     "data": {
      "text/plain": [
       "'(s_3, s_4)'"
      ]
     },
     "metadata": {},
     "output_type": "display_data"
    },
    {
     "data": {
      "text/plain": [
       "tensor([[-0.0022, -0.1809, -0.0149,  0.2837],\n",
       "        [-0.0058, -0.3758, -0.0092,  0.5716]])"
      ]
     },
     "metadata": {},
     "output_type": "display_data"
    }
   ],
   "source": [
    "\n",
    "# We get the transitions: each tensor is transformed so that: \n",
    "# - we have the value at time step t and t+1 (so all the tensors first dimension have a size of 2)\n",
    "# - there is no distinction between the different environments (here, there is just one environment to make it easy)\n",
    "transitions = workspace.get_transitions()\n",
    "\n",
    "display(\"Observations (first 4)\", workspace[\"env/env_obs\"][:4])\n",
    "\n",
    "display(\"Transitions (first 3)\")\n",
    "for t in range(4):\n",
    "    display(f'(s_{t}, s_{t+1})')\n",
    "    # We ignore the first dimension as it corresponds to [t, t+1]\n",
    "    display(transitions[\"env/env_obs\"][:, t])"
   ]
  },
  {
   "cell_type": "markdown",
   "id": "a3bbc7c8",
   "metadata": {},
   "source": [
    "You can see that each transition in the workspace corresponds to a pair of observations.\n",
    "\n",
    "### Transitions as a workspace\n",
    "\n",
    "A transition workspace is still a workspace... this is quite\n",
    " handy since each transition can be seen as a mini-episode of two time steps;\n",
    " we can use our agents on it.\n",
    "\n",
    "It is often the case in BBRL that we have to apply an agent to an already existing workspace\n",
    "as shown below."
   ]
  },
  {
   "cell_type": "code",
   "execution_count": 7,
   "id": "2b3aab11",
   "metadata": {},
   "outputs": [
    {
     "name": "stdout",
     "output_type": "stream",
     "text": [
      "env/env_obs tensor([[[-0.0471,  0.0265,  0.0220, -0.0336],\n",
      "         [-0.0466, -0.1689,  0.0214,  0.2660],\n",
      "         [-0.0500, -0.3643,  0.0267,  0.5653],\n",
      "         [-0.0572, -0.5598,  0.0380,  0.8663],\n",
      "         [-0.0684, -0.7554,  0.0553,  1.1707]],\n",
      "\n",
      "        [[-0.0466, -0.1689,  0.0214,  0.2660],\n",
      "         [-0.0500, -0.3643,  0.0267,  0.5653],\n",
      "         [-0.0572, -0.5598,  0.0380,  0.8663],\n",
      "         [-0.0684, -0.7554,  0.0553,  1.1707],\n",
      "         [-0.0836, -0.5611,  0.0787,  0.8959]]])\n",
      "env/terminated tensor([[False, False, False, False, False],\n",
      "        [False, False, False, False, False]])\n",
      "env/truncated tensor([[False, False, False, False, False],\n",
      "        [False, False, False, False, False]])\n",
      "env/done tensor([[False, False, False, False, False],\n",
      "        [False, False, False, False, False]])\n",
      "env/reward tensor([[0., 1., 1., 1., 1.],\n",
      "        [1., 1., 1., 1., 1.]])\n",
      "env/cumulated_reward tensor([[0., 1., 2., 3., 4.],\n",
      "        [1., 2., 3., 4., 5.]])\n",
      "env/timestep tensor([[0, 1, 2, 3, 4],\n",
      "        [1, 2, 3, 4, 5]])\n",
      "action tensor([[0, 0, 0, 0, 1],\n",
      "        [0, 0, 0, 1, 1]])\n",
      "new action, tensor([[0, 0, 1, 1, 0],\n",
      "        [0, 1, 1, 1, 0]])\n"
     ]
    }
   ],
   "source": [
    "for key in transitions.variables.keys():\n",
    "    print(key, transitions[key])\n",
    "\n",
    "t_random_agent = TemporalAgent(RandomAgent(action_dim))\n",
    "t_random_agent(transitions, t=0, n_steps=2)\n",
    "\n",
    "# Here, the action tensor will have been overwritten by the new actions\n",
    "print(f\"new action, {transitions['action']}\")"
   ]
  },
  {
   "cell_type": "markdown",
   "id": "6990c993",
   "metadata": {},
   "source": [
    "### Multiple environment case\n",
    "\n",
    "Now we are using 3 environments.\n",
    "Given the organization of transitions, to find the transitions of a particular environment\n",
    "we have to watch in the transition every 3 lines, since transitions are stored one environment after the other."
   ]
  },
  {
   "cell_type": "code",
   "execution_count": 8,
   "id": "5aee3e15",
   "metadata": {},
   "outputs": [
    {
     "name": "stdout",
     "output_type": "stream",
     "text": [
      "Environment: observation space in R^4 and action space R^2\n"
     ]
    },
    {
     "data": {
      "text/plain": [
       "'Observations (first 4)'"
      ]
     },
     "metadata": {},
     "output_type": "display_data"
    },
    {
     "data": {
      "text/plain": [
       "tensor([[[-8.5048e-03, -4.2718e-02, -4.8940e-02,  2.1523e-02],\n",
       "         [ 5.4922e-04,  2.4692e-03, -4.9253e-02, -4.0183e-02],\n",
       "         [ 8.0318e-03,  2.0348e-02, -2.2937e-03, -8.5254e-03]],\n",
       "\n",
       "        [[-9.3592e-03, -2.3711e-01, -4.8510e-02,  2.9837e-01],\n",
       "         [ 5.9860e-04,  1.9826e-01, -5.0056e-02, -3.4799e-01],\n",
       "         [ 8.4387e-03, -1.7474e-01, -2.4643e-03,  2.8343e-01]],\n",
       "\n",
       "        [[-1.4101e-02, -4.1327e-02, -4.2542e-02, -9.2070e-03],\n",
       "         [ 4.5638e-03,  3.9406e-01, -5.7016e-02, -6.5603e-01],\n",
       "         [ 4.9439e-03, -3.6983e-01,  3.2044e-03,  5.7534e-01]],\n",
       "\n",
       "        [[-1.4928e-02,  1.5438e-01, -4.2726e-02, -3.1500e-01],\n",
       "         [ 1.2445e-02,  5.8993e-01, -7.0137e-02, -9.6611e-01],\n",
       "         [-2.4526e-03, -5.6499e-01,  1.4711e-02,  8.6903e-01]]])"
      ]
     },
     "metadata": {},
     "output_type": "display_data"
    },
    {
     "data": {
      "text/plain": [
       "'Transitions (first 3)'"
      ]
     },
     "metadata": {},
     "output_type": "display_data"
    },
    {
     "data": {
      "text/plain": [
       "'(s_0, s_1)'"
      ]
     },
     "metadata": {},
     "output_type": "display_data"
    },
    {
     "data": {
      "text/plain": [
       "tensor([[-0.0085, -0.0427, -0.0489,  0.0215],\n",
       "        [-0.0094, -0.2371, -0.0485,  0.2984]])"
      ]
     },
     "metadata": {},
     "output_type": "display_data"
    },
    {
     "data": {
      "text/plain": [
       "'(s_1, s_2)'"
      ]
     },
     "metadata": {},
     "output_type": "display_data"
    },
    {
     "data": {
      "text/plain": [
       "tensor([[ 0.0005,  0.0025, -0.0493, -0.0402],\n",
       "        [ 0.0006,  0.1983, -0.0501, -0.3480]])"
      ]
     },
     "metadata": {},
     "output_type": "display_data"
    },
    {
     "data": {
      "text/plain": [
       "'(s_2, s_3)'"
      ]
     },
     "metadata": {},
     "output_type": "display_data"
    },
    {
     "data": {
      "text/plain": [
       "tensor([[ 0.0080,  0.0203, -0.0023, -0.0085],\n",
       "        [ 0.0084, -0.1747, -0.0025,  0.2834]])"
      ]
     },
     "metadata": {},
     "output_type": "display_data"
    }
   ],
   "source": [
    "# We deal with 3 environments at a time (random seed 2139)\n",
    "\n",
    "multienv_agent = ParallelGymAgent(partial(make_env, env_name='CartPole-v1', autoreset=True), num_envs=3).seed(2139)\n",
    "obs_size, action_dim = multienv_agent.get_obs_and_actions_sizes()\n",
    "print(f\"Environment: observation space in R^{obs_size} and action space R^{action_dim}\")\n",
    "\n",
    "agents = Agents(multienv_agent, RandomAgent(action_dim))\n",
    "t_agents = TemporalAgent(agents)\n",
    "workspace = Workspace() \n",
    "t_agents(workspace, n_steps=epoch_size)\n",
    "transitions = workspace.get_transitions()\n",
    "\n",
    "display(\"Observations (first 4)\", workspace[\"env/env_obs\"][:4])\n",
    "\n",
    "display(\"Transitions (first 3)\")\n",
    "for t in range(3):\n",
    "    display(f'(s_{t}, s_{t+1})')\n",
    "    display(transitions[\"env/env_obs\"][:, t])"
   ]
  },
  {
   "cell_type": "markdown",
   "id": "c4476782",
   "metadata": {},
   "source": [
    "You can see how the transitions are organized in the workspace relative to the 3 environments.\n",
    "You first get the first transition from the first environment.\n",
    "Then the first transition from the second environment.\n",
    "Then the first transition from the third environment.\n",
    "Then the second transition from the first environment, etc.\n",
    "\n",
    "## The replay buffer\n",
    "\n",
    "Differently from the previous case, we use a replace buffer that stores\n",
    "a set of transitions $(s_t, a_t, r_t, s_{t+1})$\n",
    "Finally, the replay buffer keeps slices [:, i, ...] of the transition\n",
    "workspace (here at most 80 transitions)"
   ]
  },
  {
   "cell_type": "code",
   "execution_count": 9,
   "id": "bc58e15d",
   "metadata": {},
   "outputs": [
    {
     "data": {
      "text/plain": [
       "tensor([[[ 0.0046,  0.3941, -0.0570, -0.6560],\n",
       "         [-0.0025, -0.5650,  0.0147,  0.8690],\n",
       "         [ 0.0049, -0.3698,  0.0032,  0.5753]],\n",
       "\n",
       "        [[ 0.0124,  0.5899, -0.0701, -0.9661],\n",
       "         [-0.0138, -0.3701,  0.0321,  0.5810],\n",
       "         [-0.0025, -0.5650,  0.0147,  0.8690]]])"
      ]
     },
     "execution_count": 9,
     "metadata": {},
     "output_type": "execute_result"
    }
   ],
   "source": [
    "rb = ReplayBuffer(max_size=80)\n",
    "\n",
    "# We add the transitions to the buffer....\n",
    "rb.put(transitions)\n",
    "\n",
    "# And sample from them here we get 3 tuples (s_t, s_{t+1})\n",
    "rb.get_shuffled(3)[\"env/env_obs\"]"
   ]
  },
  {
   "cell_type": "markdown",
   "id": "032c10f6",
   "metadata": {},
   "source": [
    "## Collecting several epochs into the same workspace\n",
    "\n",
    "In the code below, the workspace only contains one epoch at a time.\n",
    "The content of these different epochs are concatenated into the replay buffer"
   ]
  },
  {
   "cell_type": "code",
   "execution_count": 10,
   "id": "1c1ba319",
   "metadata": {},
   "outputs": [
    {
     "name": "stdout",
     "output_type": "stream",
     "text": [
      "collecting new epoch, already performed 27 steps\n",
      "replay buffer size: 42\n",
      "collecting new epoch, already performed 57 steps\n",
      "replay buffer size: 72\n",
      "collecting new epoch, already performed 85 steps\n",
      "replay buffer size: 80\n",
      "collecting new epoch, already performed 114 steps\n",
      "replay buffer size: 80\n"
     ]
    }
   ],
   "source": [
    "nb_steps = 0\n",
    "max_steps = 100\n",
    "epoch_size = 10\n",
    "\n",
    "while nb_steps < max_steps:\n",
    "    # Execute the agent in the workspace\n",
    "    if nb_steps == 0:\n",
    "        # In the first epoch, we start with t=0\n",
    "        t_agents(workspace, t=0, n_steps=epoch_size)\n",
    "    else:\n",
    "        # Clear all gradient graphs from the workspace\n",
    "        workspace.zero_grad()\n",
    "        # Here we duplicate the last column of the previous epoch into the first column of the next epoch\n",
    "        workspace.copy_n_last_steps(1)\n",
    "\n",
    "        # In subsequent epochs, we start with t=1 so as to avoid overwriting the first column we just duplicated\n",
    "        t_agents(workspace, t=1, n_steps=epoch_size)\n",
    "\n",
    "    transition_workspace = workspace.get_transitions()\n",
    "\n",
    "    # The part below counts the number of steps: it ignores action performed during transition from one episode to the next,\n",
    "    # as they have been discarded by the get_transitions() function\n",
    "\n",
    "    action = transition_workspace[\"action\"]\n",
    "    nb_steps += action[0].shape[0]\n",
    "    print(f\"collecting new epoch, already performed {nb_steps} steps\")\n",
    "\n",
    "    if nb_steps > 0 or epoch_size  > 1:\n",
    "        rb.put(transition_workspace)\n",
    "    print(f\"replay buffer size: {rb.size()}\")"
   ]
  },
  {
   "cell_type": "markdown",
   "id": "bbb84141",
   "metadata": {},
   "source": [
    "## Exercise\n",
    "\n",
    "Create a stupid agent that always outputs action 1, run it for 10 epochs of 100 steps over 2 instances of the CartPole-v1 environment.\n",
    "Put the data into a replay buffer of size 5000.\n",
    "\n",
    "Then do the following:\n",
    "- Count the number of episodes the agent performed in each environment by counting the number of \"done=True\" elements in the workspace before applying the `get_transitions()` function\n",
    "- Count the total number of episodes performed by the agent by measuring the difference between the size of the replay buffer and the number of steps performed by the agent.\n",
    "- Make sure both counts are consistent\n",
    "\n",
    "Can we count the number of episodes performed in one environment using the second method? Why?"
   ]
  }
 ],
 "metadata": {
  "jupytext": {
   "cell_markers": "\"\"\""
  },
  "kernelspec": {
   "display_name": "Python 3 (ipykernel)",
   "language": "python",
   "name": "python3"
  },
  "language_info": {
   "codemirror_mode": {
    "name": "ipython",
    "version": 3
   },
   "file_extension": ".py",
   "mimetype": "text/x-python",
   "name": "python",
   "nbconvert_exporter": "python",
   "pygments_lexer": "ipython3",
   "version": "3.9.16"
  }
 },
 "nbformat": 4,
 "nbformat_minor": 5
}
